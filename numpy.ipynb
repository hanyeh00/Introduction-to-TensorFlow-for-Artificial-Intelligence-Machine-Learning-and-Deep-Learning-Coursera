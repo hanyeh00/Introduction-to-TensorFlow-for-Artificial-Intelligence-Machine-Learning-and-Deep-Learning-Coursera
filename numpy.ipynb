{
  "nbformat": 4,
  "nbformat_minor": 0,
  "metadata": {
    "colab": {
      "name": "numpy.ipynb",
      "provenance": [],
      "authorship_tag": "ABX9TyOH4qHyU+njer6nBErT1TYH",
      "include_colab_link": true
    },
    "kernelspec": {
      "name": "python3",
      "display_name": "Python 3"
    }
  },
  "cells": [
    {
      "cell_type": "markdown",
      "metadata": {
        "id": "view-in-github",
        "colab_type": "text"
      },
      "source": [
        "<a href=\"https://colab.research.google.com/github/hanyeh00/Introduction-to-TensorFlow-for-Artificial-Intelligence-Machine-Learning-and-Deep-Learning-Coursera/blob/master/numpy.ipynb\" target=\"_parent\"><img src=\"https://colab.research.google.com/assets/colab-badge.svg\" alt=\"Open In Colab\"/></a>"
      ]
    },
    {
      "cell_type": "markdown",
      "metadata": {
        "id": "Mjz0R2nt20Xa",
        "colab_type": "text"
      },
      "source": [
        "**#difference between dictionart and numpy**"
      ]
    },
    {
      "cell_type": "code",
      "metadata": {
        "id": "zppSKEMw2qMr",
        "colab_type": "code",
        "colab": {
          "base_uri": "https://localhost:8080/",
          "height": 54
        },
        "outputId": "af7dafb7-ca05-484c-e514-cce90bfaa9a6"
      },
      "source": [
        "import pandas as pd\n",
        "\n",
        "\n",
        "labels = ['a', 'b', 'c']\n",
        "lists = [10, 20, 30]\n",
        "dictionaryy = {'a':10,'b':20,'c':30}\n",
        "pandam=pd.Series(data=[10,20,30], index=labels)\n",
        "print(pandam['a'])\n",
        "print(dictionaryy['a'])\n"
      ],
      "execution_count": 10,
      "outputs": [
        {
          "output_type": "stream",
          "text": [
            "10\n",
            "10\n"
          ],
          "name": "stdout"
        }
      ]
    },
    {
      "cell_type": "code",
      "metadata": {
        "id": "w6cMppv_4iID",
        "colab_type": "code",
        "colab": {
          "base_uri": "https://localhost:8080/",
          "height": 91
        },
        "outputId": "1f2f6d30-7de0-4db0-8fe3-1614328deb40"
      },
      "source": [
        "#step2:\n",
        "import pandas as pd\n",
        "\n",
        "\n",
        "labels = ['a', 'b', 'c']\n",
        "lists = [10, 20, 30]\n",
        "dictionaryy = {'a':10,'b':20,'c':30}\n",
        "pandam=pd.Series(data=lists, index=labels,dtype='int16')\n",
        "print(pandam)\n",
        "#p2=pd.Series(data=[10,40,30], index=['a','c','d'],dtype='int16')\n",
        "#p2+pandam"
      ],
      "execution_count": 19,
      "outputs": [
        {
          "output_type": "stream",
          "text": [
            "a    10\n",
            "b    20\n",
            "c    30\n",
            "dtype: int16\n"
          ],
          "name": "stdout"
        }
      ]
    },
    {
      "cell_type": "markdown",
      "metadata": {
        "id": "nGVcsUm25rZn",
        "colab_type": "text"
      },
      "source": [
        "pd.Series:\n",
        "**bold text**\n",
        "\n",
        "# Series\n",
        "Series is a one-dimensional labeled array capable of holding any data type (integers, strings, floating point numbers, Python objects, etc.) labels (including time series)\n",
        "Labels need not be unique but must be a hashable type. The object supports both integer- and label-based indexing and provides a host of methods for performing operations involving the index. "
      ]
    },
    {
      "cell_type": "code",
      "metadata": {
        "id": "n_WQsLKT7dtw",
        "colab_type": "code",
        "colab": {}
      },
      "source": [
        "#step3\n"
      ],
      "execution_count": null,
      "outputs": []
    }
  ]
}